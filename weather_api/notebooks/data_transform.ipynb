{
 "cells": [
  {
   "cell_type": "markdown",
   "metadata": {},
   "source": [
    "Within this file you will be create the following dataframes and save them as a csv files into your folder `data/csv`.\n",
    "\n",
    "* monthly medians on `temperature`, `relative humidity`, `precipitation`, and `surface pressure` for all available months\n",
    "* yearly medians on `temperature`, `relative humidity`, `precipitation`, and `surface pressure` for all available years\n",
    "* yearly medians on `temperature`, `relative humidity`, `precipitation`, and `surface pressure` for all available years along with harvest data (`million_60kgs_bag`, `nonbear_mill_trees`, `bear_mill_trees`, `avg_unemp_perc`) for each respective year "
   ]
  },
  {
   "cell_type": "code",
   "execution_count": 4,
   "metadata": {},
   "outputs": [],
   "source": [
    "import pandas as pd\n",
    "import os"
   ]
  },
  {
   "cell_type": "code",
   "execution_count": 5,
   "metadata": {},
   "outputs": [
    {
     "name": "stdout",
     "output_type": "stream",
     "text": [
      "/Users/sa17/Desktop/projects/projects/weather_api/notebooks\n"
     ]
    }
   ],
   "source": [
    "# Get current working directory \n",
    "print(os.getcwd())"
   ]
  },
  {
   "cell_type": "code",
   "execution_count": 22,
   "metadata": {},
   "outputs": [
    {
     "data": {
      "text/html": [
       "<div>\n",
       "<style scoped>\n",
       "    .dataframe tbody tr th:only-of-type {\n",
       "        vertical-align: middle;\n",
       "    }\n",
       "\n",
       "    .dataframe tbody tr th {\n",
       "        vertical-align: top;\n",
       "    }\n",
       "\n",
       "    .dataframe thead th {\n",
       "        text-align: right;\n",
       "    }\n",
       "</style>\n",
       "<table border=\"1\" class=\"dataframe\">\n",
       "  <thead>\n",
       "    <tr style=\"text-align: right;\">\n",
       "      <th></th>\n",
       "      <th>Description</th>\n",
       "      <th>Hourly</th>\n",
       "    </tr>\n",
       "  </thead>\n",
       "  <tbody>\n",
       "    <tr>\n",
       "      <th>Time</th>\n",
       "      <td>time</td>\n",
       "      <td>['2022-01-01T00:00', '2022-01-01T01:00', '2022...</td>\n",
       "    </tr>\n",
       "    <tr>\n",
       "      <th>Temp</th>\n",
       "      <td>temperature_2m</td>\n",
       "      <td>[18.0, 18.2, 18.0, 17.9, 17.8, 17.8, 17.3, 17....</td>\n",
       "    </tr>\n",
       "    <tr>\n",
       "      <th>Rela</th>\n",
       "      <td>relative_humidity_2m</td>\n",
       "      <td>[96, 95, 96, 97, 98, 98, 98, 98, 99, 97, 97, 9...</td>\n",
       "    </tr>\n",
       "    <tr>\n",
       "      <th>Prec</th>\n",
       "      <td>precipitation</td>\n",
       "      <td>[0.0, 0.1, 0.1, 0.3, 1.0, 0.9, 1.4, 2.1, 10.9,...</td>\n",
       "    </tr>\n",
       "    <tr>\n",
       "      <th>Surf</th>\n",
       "      <td>surface_pressure</td>\n",
       "      <td>[906.6, 907.4, 907.2, 906.5, 905.9, 905.7, 905...</td>\n",
       "    </tr>\n",
       "  </tbody>\n",
       "</table>\n",
       "</div>"
      ],
      "text/plain": [
       "               Description                                             Hourly\n",
       "Time                  time  ['2022-01-01T00:00', '2022-01-01T01:00', '2022...\n",
       "Temp        temperature_2m  [18.0, 18.2, 18.0, 17.9, 17.8, 17.8, 17.3, 17....\n",
       "Rela  relative_humidity_2m  [96, 95, 96, 97, 98, 98, 98, 98, 99, 97, 97, 9...\n",
       "Prec         precipitation  [0.0, 0.1, 0.1, 0.3, 1.0, 0.9, 1.4, 2.1, 10.9,...\n",
       "Surf      surface_pressure  [906.6, 907.4, 907.2, 906.5, 905.9, 905.7, 905..."
      ]
     },
     "execution_count": 22,
     "metadata": {},
     "output_type": "execute_result"
    }
   ],
   "source": [
    "# Create dataframe from csv file\n",
    "df = pd.read_csv(\"/Users/sa17/Desktop/projects/projects/weather_api/data/csv/data.csv\")\n",
    "df.columns = [\"Description\", \"Hourly\"]\n",
    "df.index = [\"Time\",\"Temp\",\"Rela\",\"Prec\",\"Surf\"]\n",
    "df.head()"
   ]
  },
  {
   "cell_type": "code",
   "execution_count": null,
   "metadata": {},
   "outputs": [],
   "source": [
    "# Monthly medians on `temperature`, `relative humidity`, `precipitation`, and `surface pressure` for all available months\n"
   ]
  },
  {
   "cell_type": "code",
   "execution_count": null,
   "metadata": {},
   "outputs": [],
   "source": [
    "# Yearly medians on `temperature`, `relative humidity`, `precipitation`, and `surface pressure` for all available years\n"
   ]
  },
  {
   "cell_type": "code",
   "execution_count": null,
   "metadata": {},
   "outputs": [],
   "source": [
    "# Yearly medians on `temperature`, `relative humidity`, `precipitation`, and `surface pressure` for all available years along with harvest data (`million_60kgs_bag`, `nonbear_mill_trees`, `bear_mill_trees`, `avg_unemp_perc`) for each respective year present for Minas Gerais\n",
    "\n"
   ]
  }
 ],
 "metadata": {
  "kernelspec": {
   "display_name": "base",
   "language": "python",
   "name": "python3"
  },
  "language_info": {
   "codemirror_mode": {
    "name": "ipython",
    "version": 3
   },
   "file_extension": ".py",
   "mimetype": "text/x-python",
   "name": "python",
   "nbconvert_exporter": "python",
   "pygments_lexer": "ipython3",
   "version": "3.12.4"
  }
 },
 "nbformat": 4,
 "nbformat_minor": 2
}
